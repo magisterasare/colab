{
  "nbformat": 4,
  "nbformat_minor": 0,
  "metadata": {
    "colab": {
      "provenance": [],
      "mount_file_id": "1OhxH7bhiy4E0RH3gOrHIQ7WnPD-0olLa",
      "authorship_tag": "ABX9TyPwTLj36o0pZNNErdy3Anyk",
      "include_colab_link": true
    },
    "kernelspec": {
      "name": "python3",
      "display_name": "Python 3"
    },
    "language_info": {
      "name": "python"
    }
  },
  "cells": [
    {
      "cell_type": "markdown",
      "metadata": {
        "id": "view-in-github",
        "colab_type": "text"
      },
      "source": [
        "<a href=\"https://colab.research.google.com/github/magisterasare/colab/blob/main/MyNotebook.ipynb\" target=\"_parent\"><img src=\"https://colab.research.google.com/assets/colab-badge.svg\" alt=\"Open In Colab\"/></a>"
      ]
    },
    {
      "cell_type": "code",
      "execution_count": 1,
      "metadata": {
        "colab": {
          "base_uri": "https://localhost:8080/"
        },
        "id": "PeEugalKsvfP",
        "outputId": "e259e544-2f80-4c4e-b1e9-8c11c1fc5b2a"
      },
      "outputs": [
        {
          "output_type": "stream",
          "name": "stdout",
          "text": [
            "Hello world.!\n"
          ]
        }
      ],
      "source": [
        "print(\"Hello world.!\")"
      ]
    }
  ]
}